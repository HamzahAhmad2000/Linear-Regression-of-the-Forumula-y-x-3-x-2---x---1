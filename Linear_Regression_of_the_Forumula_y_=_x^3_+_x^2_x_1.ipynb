{
  "cells": [
    {
      "cell_type": "code",
      "execution_count": null,
      "id": "8d6ace80",
      "metadata": {
        "id": "8d6ace80"
      },
      "outputs": [],
      "source": [
        "import torch\n",
        "import torch.nn as nn\n",
        "import torch.optim as optim\n",
        "import numpy as np\n",
        "\n",
        "# Define a custom neural network model\n",
        "class MyModel(nn.Module):\n",
        "    def __init__(self):\n",
        "        super(MyModel, self).__init__()  # Correct the constructor name\n",
        "        self.fc1 = nn.Linear(1, 64)  # Input: 1 feature, Output: 64 features\n",
        "        self.fc2 = nn.Linear(64, 32)  # Input: 64 features, Output: 32 features\n",
        "        self.fc3 = nn.Linear(32, 1)  # Input: 32 features, Output: 1 feature\n",
        "\n",
        "    def forward(self, x):\n",
        "        x = torch.relu(self.fc1(x))\n",
        "        x = torch.relu(self.fc2(x))\n",
        "        x = self.fc3(x)\n",
        "        return x\n",
        "\n",
        "# Create the model and move it to the GPU\n",
        "model = MyModel()\n",
        "device = torch.device(\"cuda\" if torch.cuda.is_available() else \"cpu\")\n",
        "model.to(device)\n",
        "\n",
        "# Define the loss and optimizer\n",
        "criterion = nn.MSELoss()\n",
        "optimizer = optim.Adam(model.parameters(), lr=0.01)\n",
        "\n",
        "# Generate 5000 random values between 5 and 500\n",
        "x_values = torch.tensor(np.random.uniform(5, 500, 5000), dtype=torch.float32).view(-1, 1).to(device)\n",
        "y_true_values = (x_values**3 + x_values**2 - x_values - 1).to(device)\n",
        "\n",
        "# Training loop\n",
        "for epoch in range(10000):\n",
        "    optimizer.zero_grad()\n",
        "    y_pred = model(x_values)\n",
        "    loss = criterion(y_pred, y_true_values)\n",
        "    loss.backward()\n",
        "    optimizer.step()\n",
        "\n",
        "    if (epoch + 1) % 1000 == 0:\n",
        "        print(f'Epoch [{epoch+1}/10000], Loss: {loss.item()}')\n",
        "\n",
        "# Save the model's state_dict to a file\n",
        "torch.save(model.state_dict(), 'model_weights.pth')\n",
        "\n",
        "# Make a prediction for x=100\n",
        "x_test = torch.tensor([[100.0]], dtype=torch.float32).to(device)\n",
        "with torch.no_grad():\n",
        "    prediction = model(x_test)\n",
        "    print(f'Prediction for x=100: {prediction.item()}')\n"
      ]
    },
    {
      "cell_type": "code",
      "source": [],
      "metadata": {
        "id": "wsRX7pr_ebi1"
      },
      "id": "wsRX7pr_ebi1",
      "execution_count": null,
      "outputs": []
    }
  ],
  "metadata": {
    "kernelspec": {
      "display_name": "Python 3 (ipykernel)",
      "language": "python",
      "name": "python3"
    },
    "language_info": {
      "codemirror_mode": {
        "name": "ipython",
        "version": 3
      },
      "file_extension": ".py",
      "mimetype": "text/x-python",
      "name": "python",
      "nbconvert_exporter": "python",
      "pygments_lexer": "ipython3",
      "version": "3.10.7"
    },
    "colab": {
      "provenance": []
    }
  },
  "nbformat": 4,
  "nbformat_minor": 5
}